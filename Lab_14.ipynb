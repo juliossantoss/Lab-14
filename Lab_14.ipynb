{
  "nbformat": 4,
  "nbformat_minor": 0,
  "metadata": {
    "colab": {
      "provenance": []
    },
    "kernelspec": {
      "name": "python3",
      "display_name": "Python 3"
    },
    "language_info": {
      "name": "python"
    }
  },
  "cells": [
    {
      "cell_type": "code",
      "execution_count": 2,
      "metadata": {
        "id": "zmcGSBZoMlR3"
      },
      "outputs": [],
      "source": [
        "# import packages\n",
        "import statistics\n",
        "import pandas as pd\n",
        "import scipy.stats as stats\n",
        "from scipy.stats import sem\n",
        "from statistics import mean, stdev\n",
        "import matplotlib.pyplot as plt\n",
        "import numpy as np\n",
        "#include if using a jupyter notebook, remove if using a .py file\n",
        "%matplotlib inline"
      ]
    },
    {
      "cell_type": "code",
      "source": [
        "#create datasets\n",
        "f_vc = [2.7, 3.7, 3.2, 3.45, 3.2, 3.1]\n",
        "m_vc = [3.3, 4.5, 3.7]\n",
        "f_vc, m_vc"
      ],
      "metadata": {
        "colab": {
          "base_uri": "https://localhost:8080/"
        },
        "id": "1JX7aZTFMuKR",
        "outputId": "08c35acd-5111-436f-afed-1a6e2337e492"
      },
      "execution_count": 22,
      "outputs": [
        {
          "output_type": "execute_result",
          "data": {
            "text/plain": [
              "([2.7, 3.7, 3.2, 3.45, 3.2, 3.1], [3.3, 4.5, 3.7])"
            ]
          },
          "metadata": {},
          "execution_count": 22
        }
      ]
    },
    {
      "cell_type": "code",
      "source": [
        "#calculate the means of data\n",
        "fvc_mean = mean(f_vc)\n",
        "mvc_mean = mean(m_vc)\n",
        "fvc_mean, mvc_mean"
      ],
      "metadata": {
        "colab": {
          "base_uri": "https://localhost:8080/"
        },
        "id": "bAW0-Z-pNewx",
        "outputId": "328a811f-f1a8-4337-8b7c-40a7b4fb90db"
      },
      "execution_count": 23,
      "outputs": [
        {
          "output_type": "execute_result",
          "data": {
            "text/plain": [
              "(3.225, 3.8333333333333335)"
            ]
          },
          "metadata": {},
          "execution_count": 23
        }
      ]
    },
    {
      "cell_type": "code",
      "source": [
        "#display the means\n",
        "fvc_mean, mvc_mean"
      ],
      "metadata": {
        "colab": {
          "base_uri": "https://localhost:8080/"
        },
        "id": "U6Om0A0DOh8-",
        "outputId": "18fa4612-f0b4-4636-beb8-3a3f7eeb6332"
      },
      "execution_count": 24,
      "outputs": [
        {
          "output_type": "execute_result",
          "data": {
            "text/plain": [
              "(3.225, 3.8333333333333335)"
            ]
          },
          "metadata": {},
          "execution_count": 24
        }
      ]
    },
    {
      "cell_type": "code",
      "source": [
        "#calculate the SEM of data\n",
        "fvc_sem = sem(f_vc)\n",
        "mvc_sem = sem(m_vc)\n",
        "fvc_sem, mvc_sem"
      ],
      "metadata": {
        "colab": {
          "base_uri": "https://localhost:8080/"
        },
        "id": "SZfXto-8Ozrb",
        "outputId": "4d98f8ae-9553-4157-c274-3516fbca0bdb"
      },
      "execution_count": 25,
      "outputs": [
        {
          "output_type": "execute_result",
          "data": {
            "text/plain": [
              "(0.13768926368215256, 0.3527668414752788)"
            ]
          },
          "metadata": {},
          "execution_count": 25
        }
      ]
    },
    {
      "cell_type": "code",
      "source": [
        "#display the SEM\n",
        "fvc_sem, mvc_sem"
      ],
      "metadata": {
        "colab": {
          "base_uri": "https://localhost:8080/"
        },
        "id": "GqSWLk9-PDjp",
        "outputId": "e7d29f04-73e8-4c87-8be7-3fef449ea3f5"
      },
      "execution_count": 26,
      "outputs": [
        {
          "output_type": "execute_result",
          "data": {
            "text/plain": [
              "(0.13768926368215256, 0.3527668414752788)"
            ]
          },
          "metadata": {},
          "execution_count": 26
        }
      ]
    },
    {
      "cell_type": "code",
      "source": [
        "plt.bar (['female VC', 'male VC'], [fvc_mean,mvc_mean], yerr=[fvc_sem,mvc_sem], capsize=10)\n",
        "plt.xlabel('biological sex')\n",
        "plt.ylabel('vital capacity')\n",
        "plt.title('vital capacity differences in male vs female')"
      ],
      "metadata": {
        "colab": {
          "base_uri": "https://localhost:8080/",
          "height": 489
        },
        "id": "4r-SM5SCQOB0",
        "outputId": "dfedecb0-a8b8-417d-80a0-6fd7f61e2495"
      },
      "execution_count": 30,
      "outputs": [
        {
          "output_type": "execute_result",
          "data": {
            "text/plain": [
              "Text(0.5, 1.0, 'vital capacity differences in male vs female')"
            ]
          },
          "metadata": {},
          "execution_count": 30
        },
        {
          "output_type": "display_data",
          "data": {
            "text/plain": [
              "<Figure size 640x480 with 1 Axes>"
            ],
            "image/png": "[encoded data removed]"
          },
          "metadata": {}
        }
      ]
    },
    {
      "cell_type": "code",
      "source": [
        "# import packages\n",
        "import statistics\n",
        "import pandas as pd\n",
        "import scipy.stats as stats\n",
        "from scipy.stats import sem\n",
        "from statistics import mean, stdev\n",
        "import matplotlib.pyplot as plt\n",
        "import numpy as np\n",
        "#include if using a jupyter notebook, remove if using a .py file\n",
        "%matplotlib inline"
      ],
      "metadata": {
        "id": "XZc6dtMtSIKd"
      },
      "execution_count": 31,
      "outputs": []
    },
    {
      "cell_type": "code",
      "source": [
        "#create datasets\n",
        "f_fev1 = [2.37, 3.37, 2.6, 2.69, 3.13, 2.44]\n",
        "m_fev1 = [3.3, 4.86, 3.7]\n",
        "f_fev1, m_fev1"
      ],
      "metadata": {
        "colab": {
          "base_uri": "https://localhost:8080/"
        },
        "id": "LAWGjY4pU4v9",
        "outputId": "2f9fd189-ed30-4cce-dca2-6bcb2bd0e9ce"
      },
      "execution_count": 33,
      "outputs": [
        {
          "output_type": "execute_result",
          "data": {
            "text/plain": [
              "([2.37, 3.37, 2.6, 2.69, 3.13, 2.44], [3.3, 4.86, 3.7])"
            ]
          },
          "metadata": {},
          "execution_count": 33
        }
      ]
    },
    {
      "cell_type": "code",
      "source": [
        "#calculate the means of data\n",
        "ffev1_mean = mean(f_fev1)\n",
        "mfev1_mean = mean(m_fev1)\n",
        "ffev1_mean, mfev1_mean"
      ],
      "metadata": {
        "colab": {
          "base_uri": "https://localhost:8080/"
        },
        "id": "mYRVoEKmVbRB",
        "outputId": "f06ef6ef-3bc0-406e-eb35-710db003b87c"
      },
      "execution_count": 35,
      "outputs": [
        {
          "output_type": "execute_result",
          "data": {
            "text/plain": [
              "(2.7666666666666666, 3.9533333333333336)"
            ]
          },
          "metadata": {},
          "execution_count": 35
        }
      ]
    },
    {
      "cell_type": "code",
      "source": [
        "#display the data\n",
        "ffev1_mean, mfev1_mean"
      ],
      "metadata": {
        "colab": {
          "base_uri": "https://localhost:8080/"
        },
        "id": "ihT7XleOVrd6",
        "outputId": "fb4753c3-a911-4842-c2ad-2400d8a40840"
      },
      "execution_count": 36,
      "outputs": [
        {
          "output_type": "execute_result",
          "data": {
            "text/plain": [
              "(2.7666666666666666, 3.9533333333333336)"
            ]
          },
          "metadata": {},
          "execution_count": 36
        }
      ]
    },
    {
      "cell_type": "code",
      "source": [
        "#calculate the SEM of data\n",
        "ffev1_sem = sem(f_fev1)\n",
        "mfev1_sem = sem(m_fev1)\n",
        "ffev1_sem, mfev1_sem"
      ],
      "metadata": {
        "colab": {
          "base_uri": "https://localhost:8080/"
        },
        "id": "K4VIZR_lV37H",
        "outputId": "d6e83486-2321-49b9-c1dd-7c832c87c1f7"
      },
      "execution_count": 38,
      "outputs": [
        {
          "output_type": "execute_result",
          "data": {
            "text/plain": [
              "(0.16265846973882972, 0.4678081278093024)"
            ]
          },
          "metadata": {},
          "execution_count": 38
        }
      ]
    },
    {
      "cell_type": "code",
      "source": [
        "#display the SEM\n",
        "ffev1_sem, mfev1_sem"
      ],
      "metadata": {
        "colab": {
          "base_uri": "https://localhost:8080/"
        },
        "id": "dPcee7WNWHb1",
        "outputId": "a117ce11-b3e8-425f-d543-48d9c974ae21"
      },
      "execution_count": 39,
      "outputs": [
        {
          "output_type": "execute_result",
          "data": {
            "text/plain": [
              "(0.16265846973882972, 0.4678081278093024)"
            ]
          },
          "metadata": {},
          "execution_count": 39
        }
      ]
    },
    {
      "cell_type": "code",
      "source": [
        "plt.bar (['female FEV1', 'male FEV1'], [ffev1_mean,mfev1_mean], yerr=[ffev1_sem,mfev1_sem], capsize=10)\n",
        "plt.xlabel('biological sex')\n",
        "plt.ylabel('forced expiratoy volume in 1 second')\n",
        "plt.title('forced expiratory volume in 1 second differences in male vs female')"
      ],
      "metadata": {
        "colab": {
          "base_uri": "https://localhost:8080/",
          "height": 489
        },
        "id": "UdbajFMFWPAV",
        "outputId": "6bf8c937-ccbf-4c40-c187-f2a4ae862517"
      },
      "execution_count": 40,
      "outputs": [
        {
          "output_type": "execute_result",
          "data": {
            "text/plain": [
              "Text(0.5, 1.0, 'forced expiratory volume in 1 second differences in male vs female')"
            ]
          },
          "metadata": {},
          "execution_count": 40
        },
        {
          "output_type": "display_data",
          "data": {
            "text/plain": [
              "<Figure size 640x480 with 1 Axes>"
            ],
            "image/png": "[encoded data removed]"
          },
          "metadata": {}
        }
      ]
    }
  ]
}